{
 "cells": [
  {
   "cell_type": "code",
   "execution_count": 213,
   "metadata": {},
   "outputs": [],
   "source": [
    "from collections import defaultdict,deque\n",
    "from dijkstra_algorithm import Graph"
   ]
  },
  {
   "cell_type": "code",
   "execution_count": 214,
   "metadata": {},
   "outputs": [],
   "source": [
    "graph = []"
   ]
  },
  {
   "cell_type": "code",
   "execution_count": 215,
   "metadata": {},
   "outputs": [],
   "source": [
    "with open(\"../data/Cities_Illinois.txt\") as f:\n",
    "    for line in f:\n",
    "        edge_from, edge_to, cost, *_ = line.strip().split(\" \")\n",
    "        graph.append((edge_from, edge_to, float(cost)))"
   ]
  },
  {
   "cell_type": "code",
   "execution_count": 216,
   "metadata": {},
   "outputs": [],
   "source": [
    "with open(\"../data/Cities_Illinois.txt\") as f:\n",
    "    for read in f:\n",
    "        read = read.strip().split(\" \")\n",
    "        start_edge = str(read[0])\n",
    "        # print(start_edge)\n",
    "        end_edge = str(read[1])\n",
    "        cost = int(read[2])\n",
    "        graph.append((start_edge, end_edge, cost))\n"
   ]
  },
  {
   "cell_type": "code",
   "execution_count": 217,
   "metadata": {},
   "outputs": [
    {
     "data": {
      "text/plain": [
       "[('Chicago', 'Cicero', 5.0),\n",
       " ('Cicero', 'Chicago', 5.0),\n",
       " ('Stickney', 'Chicago', 7.0),\n",
       " ('Chicago', 'Stickney', 7.0),\n",
       " ('OakPark', 'Chicago', 8.0),\n",
       " ('Chicago', 'OakPark', 8.0),\n",
       " ('Berwyn', 'Chicago', 9.0),\n",
       " ('Chicago', 'Berwyn', 9.0),\n",
       " ('OakLawn', 'Chicago', 11.0),\n",
       " ('Chicago', 'OakLawn', 11.0),\n",
       " ('WestChester', 'OakPark', 4.0),\n",
       " ('OakPark', 'WestChester', 4.0),\n",
       " ('WestChester', 'OakLawn', 6.0),\n",
       " ('OakLawn', 'WestChester', 6.0),\n",
       " ('OakLawn', 'Berwyn', 3.0),\n",
       " ('Berwyn', 'OakLawn', 3.0),\n",
       " ('WestChester', 'Gary', 2.0),\n",
       " ('Gary', 'WestChester', 2.0),\n",
       " ('Berwyn', 'Cicero', 1.0),\n",
       " ('Cicero', 'Berwyn', 1.0),\n",
       " ('OakPark', 'Stickney', 12.0),\n",
       " ('Stickney', 'OakPark', 12.0),\n",
       " ('Stickney', 'Cicero', 3.0),\n",
       " ('Cicero', 'Stickney', 3.0),\n",
       " ('WestChester', 'Chicago', 5.0),\n",
       " ('Chicago', 'WestChester', 5.0),\n",
       " ('WestChester', 'Gary', 2.0),\n",
       " ('Gary', 'WestChester', 2.0),\n",
       " ('Milwaukee', 'WestChester', 5.0),\n",
       " ('WestChester', 'Milwaukee', 5.0),\n",
       " ('Cicero', 'ChicagoHeights', 2.0),\n",
       " ('ChicagoHeights', 'Cicero', 2.0),\n",
       " ('Champaign', 'ChicagoHeights', 1.0),\n",
       " ('ChicagoHeights', 'Champaign', 1.0),\n",
       " ('Peoria', 'ChicagoHeights', 4.0),\n",
       " ('ChicagoHeights', 'Peoria', 4.0),\n",
       " ('St.Louis', 'ChicagoHeights', 9.0),\n",
       " ('ChicagoHeights', 'St.Louis', 9.0),\n",
       " ('Champaign', 'Berwyn', 5.0),\n",
       " ('Berwyn', 'Champaign', 5.0),\n",
       " ('Peoria', 'Stickney', 8.0),\n",
       " ('Stickney', 'Peoria', 8.0),\n",
       " ('Chicago', 'Cicero', 5),\n",
       " ('Cicero', 'Chicago', 5),\n",
       " ('Stickney', 'Chicago', 7),\n",
       " ('Chicago', 'Stickney', 7),\n",
       " ('OakPark', 'Chicago', 8),\n",
       " ('Chicago', 'OakPark', 8),\n",
       " ('Berwyn', 'Chicago', 9),\n",
       " ('Chicago', 'Berwyn', 9),\n",
       " ('OakLawn', 'Chicago', 11),\n",
       " ('Chicago', 'OakLawn', 11),\n",
       " ('WestChester', 'OakPark', 4),\n",
       " ('OakPark', 'WestChester', 4),\n",
       " ('WestChester', 'OakLawn', 6),\n",
       " ('OakLawn', 'WestChester', 6),\n",
       " ('OakLawn', 'Berwyn', 3),\n",
       " ('Berwyn', 'OakLawn', 3),\n",
       " ('WestChester', 'Gary', 2),\n",
       " ('Gary', 'WestChester', 2),\n",
       " ('Berwyn', 'Cicero', 1),\n",
       " ('Cicero', 'Berwyn', 1),\n",
       " ('OakPark', 'Stickney', 12),\n",
       " ('Stickney', 'OakPark', 12),\n",
       " ('Stickney', 'Cicero', 3),\n",
       " ('Cicero', 'Stickney', 3),\n",
       " ('WestChester', 'Chicago', 5),\n",
       " ('Chicago', 'WestChester', 5),\n",
       " ('WestChester', 'Gary', 2),\n",
       " ('Gary', 'WestChester', 2),\n",
       " ('Milwaukee', 'WestChester', 5),\n",
       " ('WestChester', 'Milwaukee', 5),\n",
       " ('Cicero', 'ChicagoHeights', 2),\n",
       " ('ChicagoHeights', 'Cicero', 2),\n",
       " ('Champaign', 'ChicagoHeights', 1),\n",
       " ('ChicagoHeights', 'Champaign', 1),\n",
       " ('Peoria', 'ChicagoHeights', 4),\n",
       " ('ChicagoHeights', 'Peoria', 4),\n",
       " ('St.Louis', 'ChicagoHeights', 9),\n",
       " ('ChicagoHeights', 'St.Louis', 9),\n",
       " ('Champaign', 'Berwyn', 5),\n",
       " ('Berwyn', 'Champaign', 5),\n",
       " ('Peoria', 'Stickney', 8),\n",
       " ('Stickney', 'Peoria', 8)]"
      ]
     },
     "execution_count": 217,
     "metadata": {},
     "output_type": "execute_result"
    }
   ],
   "source": [
    "graph"
   ]
  },
  {
   "cell_type": "code",
   "execution_count": 218,
   "metadata": {},
   "outputs": [],
   "source": [
    "set_node = set()\n",
    "for edge in graph:\n",
    "    set_node.update([edge[0], edge[1]])"
   ]
  },
  {
   "cell_type": "code",
   "execution_count": 219,
   "metadata": {},
   "outputs": [
    {
     "data": {
      "text/plain": [
       "{'Berwyn',\n",
       " 'Champaign',\n",
       " 'Chicago',\n",
       " 'ChicagoHeights',\n",
       " 'Cicero',\n",
       " 'Gary',\n",
       " 'Milwaukee',\n",
       " 'OakLawn',\n",
       " 'OakPark',\n",
       " 'Peoria',\n",
       " 'St.Louis',\n",
       " 'Stickney',\n",
       " 'WestChester'}"
      ]
     },
     "execution_count": 219,
     "metadata": {},
     "output_type": "execute_result"
    }
   ],
   "source": [
    "set_node"
   ]
  },
  {
   "cell_type": "code",
   "execution_count": 226,
   "metadata": {},
   "outputs": [],
   "source": [
    "adjacency_list = {node:set() for node in set_node}\n",
    "for edge in graph:\n",
    "    adjacency_list[edge[0]].add((edge[1], edge[2]))"
   ]
  },
  {
   "cell_type": "code",
   "execution_count": 227,
   "metadata": {},
   "outputs": [
    {
     "data": {
      "text/plain": [
       "{'Milwaukee': {('WestChester', 5.0)},\n",
       " 'Champaign': {('Berwyn', 5.0), ('ChicagoHeights', 1.0)},\n",
       " 'St.Louis': {('ChicagoHeights', 9.0)},\n",
       " 'Peoria': {('ChicagoHeights', 4.0), ('Stickney', 8.0)},\n",
       " 'WestChester': {('Chicago', 5.0),\n",
       "  ('Gary', 2.0),\n",
       "  ('Milwaukee', 5.0),\n",
       "  ('OakLawn', 6.0),\n",
       "  ('OakPark', 4.0)},\n",
       " 'OakPark': {('Chicago', 8.0), ('Stickney', 12.0), ('WestChester', 4.0)},\n",
       " 'Stickney': {('Chicago', 7.0),\n",
       "  ('Cicero', 3.0),\n",
       "  ('OakPark', 12.0),\n",
       "  ('Peoria', 8.0)},\n",
       " 'ChicagoHeights': {('Champaign', 1.0),\n",
       "  ('Cicero', 2.0),\n",
       "  ('Peoria', 4.0),\n",
       "  ('St.Louis', 9.0)},\n",
       " 'Cicero': {('Berwyn', 1.0),\n",
       "  ('Chicago', 5.0),\n",
       "  ('ChicagoHeights', 2.0),\n",
       "  ('Stickney', 3.0)},\n",
       " 'Chicago': {('Berwyn', 9.0),\n",
       "  ('Cicero', 5.0),\n",
       "  ('OakLawn', 11.0),\n",
       "  ('OakPark', 8.0),\n",
       "  ('Stickney', 7.0),\n",
       "  ('WestChester', 5.0)},\n",
       " 'Gary': {('WestChester', 2.0)},\n",
       " 'OakLawn': {('Berwyn', 3.0), ('Chicago', 11.0), ('WestChester', 6.0)},\n",
       " 'Berwyn': {('Champaign', 5.0),\n",
       "  ('Chicago', 9.0),\n",
       "  ('Cicero', 1.0),\n",
       "  ('OakLawn', 3.0)}}"
      ]
     },
     "execution_count": 227,
     "metadata": {},
     "output_type": "execute_result"
    }
   ],
   "source": [
    "adjacency_list"
   ]
  },
  {
   "cell_type": "code",
   "execution_count": 228,
   "metadata": {},
   "outputs": [
    {
     "data": {
      "text/plain": [
       "\"\\nInput number of states to avoid and the states to avoid\\ni.e, 2,['Chicago','Berwyn']\\n\\nCheck if the state is in the list of states\\n\\nremove the set node of the states to avoid\\n\\nremove the key of the states to avoid and the value(tuple of end edge and cost) from the adjacency list\\n\\ncheck if the set node or the adjacency list is empty\\n\\ncheck if there are alternate paths to the end states\\n    - if there are, run usual dijkstra\\n    - if there are not, return None\\n\\n\\n\""
      ]
     },
     "execution_count": 228,
     "metadata": {},
     "output_type": "execute_result"
    }
   ],
   "source": [
    "'''\n",
    "Input number of states to avoid and the states to avoid\n",
    "i.e, 2,['Chicago','Berwyn']\n",
    "\n",
    "Check if the state is in the list of states\n",
    "\n",
    "remove the set node of the states to avoid\n",
    "\n",
    "remove the key of the states to avoid and the value(tuple of end edge and cost) from the adjacency list\n",
    "\n",
    "check if the set node or the adjacency list is empty\n",
    "\n",
    "check if there are alternate paths to the end states\n",
    "    - if there are, run usual dijkstra\n",
    "    - if there are not, return None\n",
    "\n",
    "\n",
    "'''\n",
    "\n",
    "\n"
   ]
  },
  {
   "cell_type": "code",
   "execution_count": 269,
   "metadata": {},
   "outputs": [],
   "source": [
    "def dijkstras(start,end):\n",
    "    unvisited_nodes = set_node.copy()  # All nodes are initially unvisited.\n",
    "    INFINITY = float(\"inf\")\n",
    "    # Create a dictionary of each node's distance from start_node. We will\n",
    "    # update each node's distance whenever we find a shorter path.\n",
    "    distance_from_start = {\n",
    "        node: (0 if node == start else INFINITY) for node in set_node\n",
    "    }\n",
    "\n",
    "    # Initialize previous_node, the dictionary that maps each node to the\n",
    "    # node it was visited from when the the shortest path to it was found.\n",
    "    previous_node = {node: None for node in set_node}\n",
    "\n",
    "    while unvisited_nodes:\n",
    "        # Set current_node to the unvisited node with shortest distance\n",
    "        # calculated so far.\n",
    "        current_node = min(\n",
    "            unvisited_nodes, key=lambda node: distance_from_start[node]\n",
    "        )\n",
    "        unvisited_nodes.remove(current_node)\n",
    "        print('-'*20)\n",
    "        print(distance_from_start[current_node])\n",
    "        # If current_node's distance is INFINITY, the remaining unvisited\n",
    "        # nodes are not connected to start_node, so we're done.\n",
    "        if distance_from_start[current_node] == INFINITY:\n",
    "            break\n",
    "\n",
    "        # For each neighbor of current_node, check whether the total distance\n",
    "        # to the neighbor via current_node is shorter than the distance we\n",
    "        # currently have for that node. If it is, update the neighbor's values\n",
    "        # for distance_from_start and previous_node.\n",
    "        for neighbor, distance in adjacency_list[current_node]:\n",
    "            new_path = distance_from_start[current_node] + distance\n",
    "            if new_path < distance_from_start[neighbor]:\n",
    "                distance_from_start[neighbor] = new_path\n",
    "                previous_node[neighbor] = current_node\n",
    "        \n",
    "        if current_node == end:\n",
    "            break\n",
    "        \n",
    "    path = deque()\n",
    "    current_node = end\n",
    "    while previous_node[current_node] is not None:\n",
    "        path.appendleft(current_node)\n",
    "        current_node = previous_node[current_node]\n",
    "    path.appendleft(start)\n",
    "\n",
    "    return path,distance_from_start[end]"
   ]
  },
  {
   "cell_type": "code",
   "execution_count": 271,
   "metadata": {},
   "outputs": [
    {
     "name": "stdout",
     "output_type": "stream",
     "text": [
      "--------------------\n",
      "0\n",
      "--------------------\n",
      "11.0\n",
      "--------------------\n",
      "16.0\n",
      "--------------------\n",
      "18.0\n",
      "--------------------\n",
      "18.0\n",
      "--------------------\n",
      "19.0\n",
      "--------------------\n",
      "22.0\n",
      "(deque(['OakLawn', 'Chicago', 'Cicero', 'ChicagoHeights', 'Peoria']), 22.0)\n"
     ]
    }
   ],
   "source": [
    "print(dijkstras(\"OakLawn\",\"Peoria\"))"
   ]
  },
  {
   "cell_type": "code",
   "execution_count": 232,
   "metadata": {},
   "outputs": [
    {
     "name": "stdout",
     "output_type": "stream",
     "text": [
      "(deque(['Milwaukee', 'WestChester', 'Chicago', 'Cicero', 'ChicagoHeights', 'Peoria']), 21.0)\n"
     ]
    }
   ],
   "source": [
    "print(Graph(\"../data/Cities_Illinois.txt\").shortest_path(\"Milwaukee\",\"Peoria\"))"
   ]
  },
  {
   "cell_type": "code",
   "execution_count": 265,
   "metadata": {},
   "outputs": [],
   "source": [
    "def dijkstras_modified(start,end,avoid=[]):\n",
    "    unvisited_nodes = set_node.copy()  # All nodes are initially unvisited.\n",
    "    INFINITY = float(\"inf\")\n",
    "    adj = adjacency_list.copy()\n",
    "    if avoid != []:\n",
    "        for i in avoid:\n",
    "            if (i == start or i == end) or (i == start and i == end):\n",
    "                print(\"None\")\n",
    "            else:\n",
    "                temp = adjacency_list.copy()\n",
    "                indexing = adjacency_list.copy()\n",
    "                temp.pop(i)\n",
    "                for key, values in indexing.items():\n",
    "                    for value in values.copy():\n",
    "                        if i == value[0]:\n",
    "                            temp[key].remove(value)\n",
    "    \n",
    "                unvisited_nodes.remove(i)\n",
    "        adj = temp\n",
    "    print(adj)\n",
    "    print('-'*68)\n",
    "    print(unvisited_nodes)\n",
    "    \n",
    "    INFINITY = float(\"inf\")\n",
    "    # Create a dictionary of each node's distance from start_node. We will\n",
    "    # update each node's distance whenever we find a shorter path.\n",
    "    distance_from_start = {\n",
    "        node: (0 if node == start else INFINITY) for node in set_node\n",
    "    }\n",
    "\n",
    "    # Initialize previous_node, the dictionary that maps each node to the\n",
    "    # node it was visited from when the the shortest path to it was found.\n",
    "    previous_node = {node: None for node in set_node}\n",
    "\n",
    "    while unvisited_nodes:\n",
    "        # Set current_node to the unvisited node with shortest distance\n",
    "        # calculated so far.\n",
    "        current_node = min(\n",
    "            unvisited_nodes, key=lambda node: distance_from_start[node]\n",
    "        )\n",
    "        unvisited_nodes.remove(current_node)\n",
    "\n",
    "        # If current_node's distance is INFINITY, the remaining unvisited\n",
    "        # nodes are not connected to start_node, so we're done.\n",
    "        if distance_from_start[current_node] == INFINITY:\n",
    "            break\n",
    "\n",
    "        # For each neighbor of current_node, check whether the total distance\n",
    "        # to the neighbor via current_node is shorter than the distance we\n",
    "        # currently have for that node. If it is, update the neighbor's values\n",
    "        # for distance_from_start and previous_node.\n",
    "        for neighbor, distance in adj[current_node]:\n",
    "            new_path = distance_from_start[current_node] + distance\n",
    "            if new_path < distance_from_start[neighbor]:\n",
    "                distance_from_start[neighbor] = new_path\n",
    "                previous_node[neighbor] = current_node\n",
    "        \n",
    "        path = deque()\n",
    "        current_node = end\n",
    "        while previous_node[current_node] is not None:\n",
    "            path.appendleft(current_node)\n",
    "            current_node = previous_node[current_node]\n",
    "        path.appendleft(start)\n",
    "        \n",
    "    return path,distance_from_start[end]\n",
    "    "
   ]
  },
  {
   "cell_type": "code",
   "execution_count": 274,
   "metadata": {},
   "outputs": [
    {
     "name": "stdout",
     "output_type": "stream",
     "text": [
      "{'Milwaukee': set(), 'Champaign': {('ChicagoHeights', 1.0)}, 'St.Louis': {('ChicagoHeights', 9.0)}, 'Peoria': {('ChicagoHeights', 4.0), ('Stickney', 8.0)}, 'WestChester': {('OakLawn', 6.0), ('Milwaukee', 5.0), ('Gary', 2.0), ('Chicago', 5.0)}, 'OakPark': {('Chicago', 8.0), ('Stickney', 12.0)}, 'Stickney': {('Chicago', 7.0), ('Peoria', 8.0)}, 'ChicagoHeights': {('Champaign', 1.0), ('Peoria', 4.0), ('St.Louis', 9.0)}, 'Chicago': {('OakLawn', 11.0), ('Stickney', 7.0)}, 'Gary': set(), 'OakLawn': {('Chicago', 11.0)}, 'Berwyn': {('Champaign', 5.0), ('Chicago', 9.0), ('OakLawn', 3.0)}}\n",
      "--------------------------------------------------------------------\n",
      "{'Milwaukee', 'Champaign', 'St.Louis', 'Peoria', 'WestChester', 'OakPark', 'Stickney', 'ChicagoHeights', 'Chicago', 'Gary', 'OakLawn', 'Berwyn'}\n",
      "(deque(['St.Louis', 'ChicagoHeights', 'Peoria', 'Stickney', 'Chicago']), 28.0)\n"
     ]
    }
   ],
   "source": [
    "print(dijkstras_modified(\"St.Louis\",\"Chicago\",[\"Cicero\"]))"
   ]
  },
  {
   "cell_type": "code",
   "execution_count": 165,
   "metadata": {},
   "outputs": [],
   "source": [
    "unvisited_nodes = set_node.copy()\n",
    "adj = adjacency_list.copy()\n",
    "avoid = [\"Berwyn\"]\n",
    "start = \"Chicago\"\n",
    "end = \"Peoria\"\n",
    "\n",
    "for i in avoid:\n",
    "    if (i == start or i == end) or (i == start and i == end):\n",
    "        print(\"None\")\n",
    "    else:\n",
    "        copy = adjacency_list.copy()\n",
    "        adj.pop(i)\n",
    "        for key, values in copy.items():\n",
    "            for value in values:\n",
    "                if i in value:\n",
    "                    values.remove(value)\n",
    "                    \n",
    "        unvisited_nodes.remove(i)\n",
    "        "
   ]
  },
  {
   "cell_type": "code",
   "execution_count": 166,
   "metadata": {},
   "outputs": [
    {
     "name": "stdout",
     "output_type": "stream",
     "text": [
      "defaultdict(<class 'set'>, {'Chicago': {('WestChester', 5.0), ('OakLawn', 11.0), ('OakPark', 8.0), ('Stickney', 7.0), ('Cicero', 5.0)}, 'Cicero': {('Stickney', 3.0), ('ChicagoHeights', 2.0), ('Chicago', 5.0)}, 'Stickney': {('OakPark', 12.0), ('Chicago', 7.0), ('Peoria', 8.0), ('Cicero', 3.0)}, 'OakPark': {('WestChester', 4.0), ('Chicago', 8.0), ('Stickney', 12.0)}, 'OakLawn': {('WestChester', 6.0), ('Chicago', 11.0)}, 'WestChester': {('OakLawn', 6.0), ('Milwaukee', 5.0), ('Gary', 2.0), ('OakPark', 4.0), ('Chicago', 5.0)}, 'Gary': {('WestChester', 2.0)}, 'Milwaukee': {('WestChester', 5.0)}, 'ChicagoHeights': {('Champaign', 1.0), ('Cicero', 2.0), ('Peoria', 4.0), ('St.Louis', 9.0)}, 'Champaign': {('ChicagoHeights', 1.0)}, 'Peoria': {('ChicagoHeights', 4.0), ('Stickney', 8.0)}, 'St.Louis': {('ChicagoHeights', 9.0)}})\n"
     ]
    }
   ],
   "source": [
    "\n",
    "print(adj)"
   ]
  },
  {
   "cell_type": "code",
   "execution_count": 167,
   "metadata": {},
   "outputs": [
    {
     "data": {
      "text/plain": [
       "{'Champaign',\n",
       " 'Chicago',\n",
       " 'ChicagoHeights',\n",
       " 'Cicero',\n",
       " 'Gary',\n",
       " 'Milwaukee',\n",
       " 'OakLawn',\n",
       " 'OakPark',\n",
       " 'Peoria',\n",
       " 'St.Louis',\n",
       " 'Stickney',\n",
       " 'WestChester'}"
      ]
     },
     "execution_count": 167,
     "metadata": {},
     "output_type": "execute_result"
    }
   ],
   "source": [
    "unvisited_nodes"
   ]
  },
  {
   "cell_type": "code",
   "execution_count": null,
   "metadata": {},
   "outputs": [],
   "source": []
  }
 ],
 "metadata": {
  "interpreter": {
   "hash": "aee8b7b246df8f9039afb4144a1f6fd8d2ca17a180786b69acc140d282b71a49"
  },
  "kernelspec": {
   "display_name": "Python 3.9.6 64-bit",
   "language": "python",
   "name": "python3"
  },
  "language_info": {
   "codemirror_mode": {
    "name": "ipython",
    "version": 3
   },
   "file_extension": ".py",
   "mimetype": "text/x-python",
   "name": "python",
   "nbconvert_exporter": "python",
   "pygments_lexer": "ipython3",
   "version": "3.9.6"
  },
  "orig_nbformat": 4
 },
 "nbformat": 4,
 "nbformat_minor": 2
}
